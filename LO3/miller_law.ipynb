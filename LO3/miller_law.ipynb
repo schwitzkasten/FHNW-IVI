{
 "cells": [
  {
   "cell_type": "code",
   "execution_count": 2,
   "metadata": {},
   "outputs": [],
   "source": [
    "import dash\n",
    "import dash_core_components as dcc\n",
    "import dash_html_components as html\n",
    "import plotly.express as px\n",
    "import pandas as pd\n",
    "\n",
    "# Creating a simple dataset\n",
    "df = pd.DataFrame({\n",
    "    'Category': ['A', 'B', 'C', 'D', 'E', 'F', 'G'],\n",
    "    'Value': [10, 20, 30, 40, 50, 60, 70]\n",
    "})\n",
    "\n",
    "# Pie chart\n",
    "fig_pie = px.pie(df, values='Value', names='Category', title='Pie Chart')\n",
    "\n",
    "# Line chart\n",
    "fig_line = px.line(df, x='Category', y='Value', title='Line Chart')\n",
    "\n",
    "# Creating the app\n",
    "app = dash.Dash(__name__)\n",
    "\n",
    "app.layout = html.Div([\n",
    "    html.H1('Dashboard Considering Miller\\'s Law'),\n",
    "    dcc.Graph(figure=fig_pie),\n",
    "    dcc.Graph(figure=fig_line)\n",
    "])\n",
    "\n",
    "# Run the app\n",
    "# app.run_server(debug=True)  # Uncomment to run the app locally\n"
   ]
  },
  {
   "cell_type": "code",
   "execution_count": 3,
   "metadata": {},
   "outputs": [],
   "source": [
    "import dash\n",
    "import dash_core_components as dcc\n",
    "import dash_html_components as html\n",
    "import plotly.express as px\n",
    "import pandas as pd\n",
    "\n",
    "# Creating a complex dataset\n",
    "df_complex = pd.DataFrame({\n",
    "    'Category': ['A', 'B', 'C', 'D', 'E', 'F', 'G', 'H', 'I', 'J', 'K', 'L', 'M', 'N', 'O', 'P'],\n",
    "    'Value1': [i*10 for i in range(16)],\n",
    "    'Value2': [i*15 for i in range(16)]\n",
    "})\n",
    "\n",
    "# Scatter plot\n",
    "fig_scatter = px.scatter(df_complex, x='Value1', y='Value2', color='Category', title='Scatter Plot')\n",
    "\n",
    "# Bar chart\n",
    "fig_bar = px.bar(df_complex, x='Category', y='Value1', title='Bar Chart')\n",
    "\n",
    "# Creating the app\n",
    "app_complex = dash.Dash(__name__)\n",
    "\n",
    "app_complex.layout = html.Div([\n",
    "    html.H1('Dashboard Not Considering Miller\\'s Law'),\n",
    "    dcc.Graph(figure=fig_scatter),\n",
    "    dcc.Graph(figure=fig_bar)\n",
    "])\n",
    "\n",
    "# Run the app\n",
    "# app_complex.run_server(debug=True)  # Uncomment to run the app locally\n"
   ]
  }
 ],
 "metadata": {
  "kernelspec": {
   "display_name": "Python 3",
   "language": "python",
   "name": "python3"
  },
  "language_info": {
   "codemirror_mode": {
    "name": "ipython",
    "version": 3
   },
   "file_extension": ".py",
   "mimetype": "text/x-python",
   "name": "python",
   "nbconvert_exporter": "python",
   "pygments_lexer": "ipython3",
   "version": "3.11.4"
  }
 },
 "nbformat": 4,
 "nbformat_minor": 2
}
